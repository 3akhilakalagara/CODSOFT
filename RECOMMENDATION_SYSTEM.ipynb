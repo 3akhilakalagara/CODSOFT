{
  "nbformat": 4,
  "nbformat_minor": 0,
  "metadata": {
    "colab": {
      "provenance": []
    },
    "kernelspec": {
      "name": "python3",
      "display_name": "Python 3"
    },
    "language_info": {
      "name": "python"
    }
  },
  "cells": [
    {
      "cell_type": "code",
      "source": [
        "import numpy as np\n",
        "\n",
        "# Sample user-item rating data (user IDs, item IDs, and ratings)\n",
        "data = np.array([\n",
        "    [1, 101, 5],\n",
        "    [1, 102, 4],\n",
        "    [2, 101, 3],\n",
        "    [2, 102, 4],\n",
        "    [3, 101, 2],\n",
        "    [3, 102, 3],\n",
        "    [4, 101, 5],\n",
        "    [4, 102, 1]\n",
        "])\n",
        "\n",
        "# Create a user-item matrix\n",
        "n_users = np.max(data[:, 0])\n",
        "n_items = np.max(data[:, 1])\n",
        "user_item_matrix = np.zeros((n_users, n_items))\n",
        "\n",
        "for row in data:\n",
        "    user_item_matrix[row[0] - 1, row[1] - 101] = row[2]\n",
        "\n",
        "# Calculate user similarities using cosine similarity\n",
        "def cosine_similarity(user_item_matrix):\n",
        "    norm = np.linalg.norm(user_item_matrix, axis=1, keepdims=True)\n",
        "    similarity = np.dot(user_item_matrix, user_item_matrix.T) / (norm * norm.T)\n",
        "    return similarity\n",
        "\n",
        "user_similarity = cosine_similarity(user_item_matrix)\n",
        "\n",
        "# Function to make recommendations for a user\n",
        "def recommend(user_id, user_item_matrix, user_similarity, n_recommendations=3):\n",
        "    user_ratings = user_item_matrix[user_id - 1]\n",
        "    similar_users = user_similarity[user_id - 1]\n",
        "\n",
        "    # Sort similar users by descending order of similarity\n",
        "    sorted_users = np.argsort(similar_users)[::-1]\n",
        "\n",
        "    # Find items that the user hasn't rated yet\n",
        "    unrated_items = np.where(user_ratings == 0)[0]\n",
        "\n",
        "    recommendations = []\n",
        "\n",
        "    for user in sorted_users:\n",
        "        for item in unrated_items:\n",
        "            if user_item_matrix[user][item] > 0:\n",
        "                recommendations.append(item)\n",
        "                if len(recommendations) >= n_recommendations:\n",
        "                    return recommendations\n",
        "\n",
        "    return recommendations\n",
        "\n",
        "# Make recommendations for a specific user (e.g., user 3)\n",
        "user_id = 3\n",
        "recommendations = recommend(user_id, user_item_matrix, user_similarity)\n",
        "print(f\"Top 3 recommendations for User {user_id}: {recommendations}\")\n"
      ],
      "metadata": {
        "id": "wco4QfbwAcoK",
        "outputId": "ef1938a9-f254-4d96-91ab-8f04c2db096c",
        "colab": {
          "base_uri": "https://localhost:8080/"
        }
      },
      "execution_count": 8,
      "outputs": [
        {
          "output_type": "stream",
          "name": "stdout",
          "text": [
            "Top 3 recommendations for User 3: []\n"
          ]
        }
      ]
    }
  ]
}