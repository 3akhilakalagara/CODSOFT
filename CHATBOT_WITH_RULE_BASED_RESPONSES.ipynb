{
  "nbformat": 4,
  "nbformat_minor": 0,
  "metadata": {
    "colab": {
      "provenance": []
    },
    "kernelspec": {
      "name": "python3",
      "display_name": "Python 3"
    },
    "language_info": {
      "name": "python"
    }
  },
  "cells": [
    {
      "cell_type": "code",
      "source": [
        "# Define a function for the chatbot\n",
        "def simple_chatbot(user_input):\n",
        "    # Convert user input to lowercase for case-insensitive matching\n",
        "    user_input = user_input.lower()\n",
        "\n",
        "    # Define the rules and responses\n",
        "    if \"hello\" in user_input or \"hi\" in user_input:\n",
        "        return \"Hello! How can I assist you today?\"\n",
        "\n",
        "    elif \"how are you\" in user_input:\n",
        "        return \"I'm just a chatbot, but I'm here to help. How can I assist you?\"\n",
        "\n",
        "    elif \"bye\" in user_input:\n",
        "        return \"Goodbye! Have a great day.\"\n",
        "\n",
        "    else:\n",
        "        return \"I'm sorry, I didn't understand that. Can you please rephrase your question?\"\n",
        "\n",
        "# Main loop\n",
        "while True:\n",
        "    user_input = input(\"User: \")\n",
        "\n",
        "    if user_input.lower() == \"exit\":\n",
        "        print(\"Chatbot: Goodbye!\")\n",
        "        break\n",
        "\n",
        "    response = simple_chatbot(user_input)\n",
        "    print(\"Chatbot:\", response)\n"
      ],
      "metadata": {
        "colab": {
          "base_uri": "https://localhost:8080/"
        },
        "id": "uBiMm-JwdhyN",
        "outputId": "a9075d2b-f40f-4229-8301-727f2ec5fbea"
      },
      "execution_count": null,
      "outputs": [
        {
          "output_type": "stream",
          "name": "stdout",
          "text": [
            "User: hii\n",
            "Chatbot: Hello! How can I assist you today?\n",
            "User: how are you\n",
            "Chatbot: I'm just a chatbot, but I'm here to help. How can I assist you?\n",
            "User: bye\n",
            "Chatbot: Goodbye! Have a great day.\n",
            "User: who are you\n",
            "Chatbot: I'm sorry, I didn't understand that. Can you please rephrase your question?\n"
          ]
        }
      ]
    }
  ]
}